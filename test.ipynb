{
 "cells": [
  {
   "cell_type": "code",
   "execution_count": 4,
   "metadata": {
    "collapsed": true
   },
   "outputs": [],
   "source": [
    "import tensorflow as tf\n",
    "import numpy as np\n",
    "import matplotlib.pyplot as plt"
   ]
  },
  {
   "cell_type": "code",
   "execution_count": 3,
   "metadata": {
    "scrolled": true
   },
   "outputs": [
    {
     "name": "stdout",
     "output_type": "stream",
     "text": [
      "WARNING:tensorflow:From c:\\users\\windows\\anaconda3\\envs\\tensorflow\\lib\\site-packages\\tensorflow\\python\\util\\tf_should_use.py:175: initialize_all_variables (from tensorflow.python.ops.variables) is deprecated and will be removed after 2017-03-02.\n",
      "Instructions for updating:\n",
      "Use `tf.global_variables_initializer` instead.\n",
      "cost= 0.0770324\n",
      "W= 0.253436 b= 0.773828\n"
     ]
    },
    {
     "data": {
      "image/png": "[encoded data removed]",
      "text/plain": [
       "<matplotlib.figure.Figure at 0x1f7212cdd68>"
      ]
     },
     "metadata": {},
     "output_type": "display_data"
    }
   ],
   "source": [
    "rng = np.random\n",
    "\n",
    "# Parameters\n",
    "learning_rate = 0.01\n",
    "training_epochs = 2000\n",
    "display_step = 50\n",
    "\n",
    "# Training Data\n",
    "train_X = np.asarray([3.3,4.4,5.5,6.71,6.93,4.168,9.779,6.182,7.59,2.167,7.042,10.791,5.313,7.997,5.654,9.27,3.1])\n",
    "train_Y = np.asarray([1.7,2.76,2.09,3.19,1.694,1.573,3.366,2.596,2.53,1.221,2.827,3.465,1.65,2.904,2.42,2.94,1.3])\n",
    "n_samples = train_X.shape[0]\n",
    "\n",
    "#Groph Input\n",
    "X = tf.placeholder(\"float\")\n",
    "Y = tf.placeholder(\"float\")\n",
    "\n",
    "#Set model weight\n",
    "W = tf.Variable(rng.randn(), name='weight')\n",
    "b = tf.Variable(rng.randn(), name='bias')\n",
    "\n",
    "#Construct a linear model\n",
    "activation = tf.add(tf.multiply(X, W), b)\n",
    "\n",
    "#Cost function\n",
    "cost = tf.reduce_sum(tf.pow(activation - Y, 2)/(2*n_samples))\n",
    "optimizer = tf.train.GradientDescentOptimizer(learning_rate).minimize(cost)\n",
    "\n",
    "#Initialize varaiables\n",
    "init = tf.initialize_all_variables()\n",
    "\n",
    "#Lauch the graph\n",
    "with tf.Session() as sess:\n",
    "    sess.run(init)\n",
    "    for epoch in range(training_epochs):\n",
    "        for (x, y) in zip(train_X, train_Y):\n",
    "            sess.run(optimizer, feed_dict={X:x, Y:y})\n",
    "            \n",
    "    print(\"cost=\", sess.run(cost, feed_dict={X:train_X, Y:train_Y}))\n",
    "    print(\"W=\", sess.run(W), \"b=\", sess.run(b))\n",
    "    \n",
    "    #Display\n",
    "    plt.plot(train_X, train_Y, 'ro', label='Original Data')\n",
    "    plt.plot(train_X, sess.run(W) * train_X + sess.run(b), label='Fitted Line')\n",
    "    plt.legend()\n",
    "    plt.show()"
   ]
  },
  {
   "cell_type": "code",
   "execution_count": 9,
   "metadata": {},
   "outputs": [
    {
     "name": "stdout",
     "output_type": "stream",
     "text": [
      "Extracting F:/ML/train-images-idx3-ubyte.gz\n",
      "Extracting F:/ML/train-labels-idx1-ubyte.gz\n",
      "Extracting F:/ML/t10k-images-idx3-ubyte.gz\n",
      "Extracting F:/ML/t10k-labels-idx1-ubyte.gz\n",
      "WARNING:tensorflow:From c:\\users\\windows\\anaconda3\\envs\\tensorflow\\lib\\site-packages\\tensorflow\\python\\util\\tf_should_use.py:175: initialize_all_variables (from tensorflow.python.ops.variables) is deprecated and will be removed after 2017-03-02.\n",
      "Instructions for updating:\n",
      "Use `tf.global_variables_initializer` instead.\n",
      "Epoch: 0001 cost= 1.184104102\n",
      "Epoch: 0002 cost= 0.665338045\n",
      "Epoch: 0003 cost= 0.552722419\n",
      "Epoch: 0004 cost= 0.498716523\n",
      "Epoch: 0005 cost= 0.465543176\n",
      "Epoch: 0006 cost= 0.442608478\n",
      "Epoch: 0007 cost= 0.425483386\n",
      "Epoch: 0008 cost= 0.412205584\n",
      "Epoch: 0009 cost= 0.401405598\n",
      "Epoch: 0010 cost= 0.392473864\n",
      "Epoch: 0011 cost= 0.384807699\n",
      "Epoch: 0012 cost= 0.378168597\n",
      "Epoch: 0013 cost= 0.372446137\n",
      "Epoch: 0014 cost= 0.367313246\n",
      "Epoch: 0015 cost= 0.362725248\n",
      "Epoch: 0016 cost= 0.358623804\n",
      "Epoch: 0017 cost= 0.354858375\n",
      "Epoch: 0018 cost= 0.351485938\n",
      "Epoch: 0019 cost= 0.348331728\n",
      "Epoch: 0020 cost= 0.345445810\n",
      "Epoch: 0021 cost= 0.342760223\n",
      "Epoch: 0022 cost= 0.340298400\n",
      "Epoch: 0023 cost= 0.337913146\n",
      "Epoch: 0024 cost= 0.335796549\n",
      "Epoch: 0025 cost= 0.333748965\n",
      "WARNING:tensorflow:From <ipython-input-9-e58aecfe260b>:46: arg_max (from tensorflow.python.ops.gen_math_ops) is deprecated and will be removed in a future version.\n",
      "Instructions for updating:\n",
      "Use `argmax` instead\n",
      "WARNING:tensorflow:From <ipython-input-9-e58aecfe260b>:46: arg_max (from tensorflow.python.ops.gen_math_ops) is deprecated and will be removed in a future version.\n",
      "Instructions for updating:\n",
      "Use `argmax` instead\n",
      "accuracy: 0.9139\n"
     ]
    }
   ],
   "source": [
    "import tensorflow as tf\n",
    "import numpy as np\n",
    "from tensorflow.examples.tutorials.mnist import input_data\n",
    "mnist = input_data.read_data_sets(\"F:/ML/\", one_hot=True)\n",
    "\n",
    "learning_rate = 0.01\n",
    "training_epochs = 25\n",
    "batch_size = 100\n",
    "display_step = 1\n",
    "\n",
    "#Groph Input\n",
    "x = tf.placeholder(tf.float32, [None, 784])\n",
    "y = tf.placeholder(tf.float32, [None, 10])\n",
    "\n",
    "#Set model weight\n",
    "W = tf.Variable(tf.zeros([784, 10]), name='weight', dtype=tf.float32)\n",
    "b = tf.Variable(tf.zeros([10]), name='bias', dtype=tf.float32)\n",
    "\n",
    "#Construct model\n",
    "activation = tf.nn.softmax(tf.add(tf.matmul(x, W), b))\n",
    "\n",
    "#Cost function\n",
    "cost = tf.reduce_mean(-tf.reduce_sum(y*tf.log(activation), axis=1))\n",
    "optimizer = tf.train.GradientDescentOptimizer(learning_rate).minimize(cost)\n",
    "\n",
    "#Initialize varaiables\n",
    "init = tf.initialize_all_variables()\n",
    "\n",
    "#Lauch the graph\n",
    "with tf.Session() as sess:\n",
    "    sess.run(init)\n",
    "    for epoch in range(training_epochs):\n",
    "        avg_cost = 0\n",
    "        total_batch = int(mnist.train.num_examples/batch_size)\n",
    "        #SGD\n",
    "        for i in range(total_batch):\n",
    "            xs, ys = mnist.train.next_batch(batch_size)\n",
    "            c, _ = sess.run([cost, optimizer], feed_dict={x:xs, y:ys})\n",
    "            #Calculate the average cost\n",
    "            avg_cost += c/total_batch\n",
    "        # Display logs per epoch step\n",
    "        if (epoch+1) % display_step == 0:\n",
    "            print (\"Epoch:\", '%04d' % (epoch+1), \"cost=\", \"{:.9f}\".format(avg_cost))\n",
    "    \n",
    "    # Test model\n",
    "    correct_prediction = tf.equal(tf.arg_max(activation, 1), tf.arg_max(y, 1))\n",
    "    # Calculate the accuracy\n",
    "    accuracy = tf.reduce_mean(tf.cast(correct_prediction, tf.float32))\n",
    "    print(\"accuracy:\", accuracy.eval({x:mnist.test.images, y:mnist.test.labels}))\n"
   ]
  },
  {
   "cell_type": "code",
   "execution_count": 7,
   "metadata": {},
   "outputs": [
    {
     "name": "stdout",
     "output_type": "stream",
     "text": [
      "WARNING:tensorflow:From c:\\users\\windows\\anaconda3\\envs\\tensorflow\\lib\\site-packages\\tensorflow\\python\\util\\tf_should_use.py:175: initialize_all_variables (from tensorflow.python.ops.variables) is deprecated and will be removed after 2017-03-02.\n",
      "Instructions for updating:\n",
      "Use `tf.global_variables_initializer` instead.\n",
      "[ 0.  0.  0.  0.  0.]\n"
     ]
    }
   ],
   "source": [
    "a = tf.zeros(5)\n",
    "init = tf.initialize_all_variables()\n",
    "with tf.Session() as sess:\n",
    "    sess.run(init)\n",
    "    print(a.eval())"
   ]
  },
  {
   "cell_type": "code",
   "execution_count": null,
   "metadata": {
    "collapsed": true
   },
   "outputs": [],
   "source": []
  }
 ],
 "metadata": {
  "kernelspec": {
   "display_name": "Python 3",
   "language": "python",
   "name": "python3"
  },
  "language_info": {
   "codemirror_mode": {
    "name": "ipython",
    "version": 3
   },
   "file_extension": ".py",
   "mimetype": "text/x-python",
   "name": "python",
   "nbconvert_exporter": "python",
   "pygments_lexer": "ipython3",
   "version": "3.6.3"
  }
 },
 "nbformat": 4,
 "nbformat_minor": 2
}
